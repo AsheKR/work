{
 "cells": [
  {
   "cell_type": "code",
   "execution_count": 1,
   "metadata": {},
   "outputs": [],
   "source": [
    "from bs4 import BeautifulSoup\n",
    "import requests\n",
    "import re\n",
    "import time"
   ]
  },
  {
   "cell_type": "code",
   "execution_count": 2,
   "metadata": {},
   "outputs": [],
   "source": [
    "base_url = 'https://namu.wiki'"
   ]
  },
  {
   "cell_type": "code",
   "execution_count": 3,
   "metadata": {},
   "outputs": [],
   "source": [
    "list_url = '/w/%EC%9D%BC%EB%B3%B8%20%EC%95%A0%EB%8B%88%EB%A9%94%EC%9D%B4%EC%85%98/%EB%AA%A9%EB%A1%9D'"
   ]
  },
  {
   "cell_type": "code",
   "execution_count": 41,
   "metadata": {},
   "outputs": [],
   "source": [
    "def get_data_if_exists(table, name):\n",
    "    data = table.find(string=name)\n",
    "    if data:\n",
    "        data = data.find_parent('tr').find_all('td')[1].get_text()\n",
    "    return data\n",
    "\n",
    "def get_soup(url):\n",
    "    html = requests.get(url).content\n",
    "    soup = BeautifulSoup(html, 'html.parser')\n",
    "    return soup\n",
    "\n",
    "def get_table_with_genre(soup):\n",
    "    try:\n",
    "        table = soup.find(string=\"장르\").find_parent('table', class_='wiki-table')\n",
    "        return table\n",
    "    except AttributeError:\n",
    "        return None\n",
    "\n",
    "def get_image(soup):\n",
    "    table = get_table_with_genre(soup)\n",
    "    if table:\n",
    "        img = table.select_one('.wiki-image').get('data-src')\n",
    "        return img\n",
    "    else:\n",
    "        try:\n",
    "            img = soup.select_one('.wiki-inner-content .wiki-image').get('href')\n",
    "            return img\n",
    "        except AttributeError:\n",
    "            return None\n",
    "\n",
    "def get_genre(soup):\n",
    "    table = get_table_with_genre(soup)\n",
    "    if table:\n",
    "        genre = get_data_if_exists(table, '장르')\n",
    "        return genre\n",
    "    \n",
    "def get_anime(anime_list_links):\n",
    "    for anime_link in anime_list_links:\n",
    "        title = anime_link.get('title')\n",
    "        soup = get_soup(base_url + anime_link.get('href'))\n",
    "        \n",
    "        genre = get_genre(soup)\n",
    "        image_link = get_image(soup)\n",
    "        \n",
    "        animation_detail_data = get_animation_detail_data(soup)\n",
    "        time.sleep(3)\n",
    "        \n",
    "        data = {\n",
    "            'title': title,\n",
    "            'genre': genre,\n",
    "            'image_link': image_link,\n",
    "            **animation_detail_data,\n",
    "        }\n",
    "        print(data)\n",
    "        \n",
    "def get_animes_by_content(anime_content_links):\n",
    "    for anime_content_link in anime_content_links:\n",
    "        anime_list_links = anime_content_link.select('ul > li > .wiki-paragraph > .wiki-link-internal')\n",
    "        datas = get_anime(anime_list_links)\n",
    "        print(datas)\n",
    "        break\n",
    "\n",
    "def get_animes_by_consonant(anime_consonant_links):\n",
    "    for anime_consonant_link in anime_consonant_links:\n",
    "        soup = get_soup(base_url + anime_consonant_link.get('href'))\n",
    "        anime_content_links = soup.select('.wiki-inner-content > .wiki-heading-content')\n",
    "        get_animes_by_content(anime_content_links)\n",
    "\n",
    "def get_animes():\n",
    "    soup = get_soup(base_url + list_url)\n",
    "    anime_consonant_links = soup.select('.wiki-heading-content > .wiki-paragraph > .wiki-link-internal')[1::2]\n",
    "    \n",
    "    get_animes_by_consonant(anime_consonant_links)"
   ]
  },
  {
   "cell_type": "code",
   "execution_count": 42,
   "metadata": {
    "scrolled": false
   },
   "outputs": [
    {
     "name": "stdout",
     "output_type": "stream",
     "text": [
      "{'title': '가난뱅이 신이!', 'genre': '개그', 'image_link': '//w.namu.la/s/8911f358b21b7a3fdefa677adb9a221b7005bcdb9d597464302f8c5d53458ad0eeb9f278f3efb18f1280b7f74ed3da9fb6a2ba73274980846d4c6d10a617fc11ce4916bb0cb84c4ce6e512b2f7d79ba47bcf873388d763e52509f565a8bc3350', 'company': '선라이즈', 'show_time': '2012년 7월 5일 ~ 9월 27일', 'count': '13화'}\n",
      "{'title': '가르쳐줘! 갸루코쨩', 'genre': '학원, 코미디, 일상', 'image_link': '//w.namu.la/s/ce4dc0687d9a2160dedaa0a8d4eef698806c706cc4a8c07144456936715a46047a0221fd7877a25694e1f3ff4a380190c4d60cc039404ac48b3a3c5ac4744e5214114c4a29468928afed0dae2f81eadcca0a7ccc259ca7df36e79904aacfc333', 'company': 'feel.', 'show_time': '2016년 1월', 'count': '12화 + OAD 1화'}\n",
      "{'title': '가면의 메이드가이', 'genre': None, 'image_link': None, 'company': '매드하우스', 'show_time': '2008년 4월 6일 ~ 6월 22일', 'count': '12화'}\n",
      "{'title': '가부키부!', 'genre': '가부키, 학원물', 'image_link': '//w.namu.la/s/9605dc3106a19cc594f2123f94938c30afba87e39f74ecb07c0735c5ab776ec73fdc35fd3e700c0186bf69dfdaf3d90478c6ce6a7860beefe31e108b1a95ecd49d3832e75a3e14b57a424070078cea5a56cf4b584a9ce68ab3c23e27c8e2cacc', 'company': '스튜디오 딘', 'show_time': '2017년 4월 7일 ~ 6월 23일', 'count': '12화'}\n",
      "{'title': '가브릴 드롭아웃', 'genre': '판타지, 일상, 코미디', 'image_link': '//w.namu.la/s/c9df8fc9b76441081faa72d2088eb1e644d63f83deee1386138d89eb30fd914a00e745b0bb3f0edf073e4adc1dc0547bb0548ecd5bda50e16732b4aa1487ce5294e11304d8fa2870d5fce4a4ac8060130a983fdef545b76044219f8b5af8b4f0', 'company': '동화공방', 'show_time': '2017년 1월 9일 ~ 3월 27일', 'count': None}\n",
      "{'title': '가사라키', 'genre': None, 'image_link': None}\n",
      "{'title': '가시나무왕', 'genre': None, 'image_link': None}\n",
      "{'title': '가이킹 LEGEND OF DAIKU-MARYU', 'genre': None, 'image_link': None}\n",
      "{'title': '가정교사 히트맨 REBORN!', 'genre': '배틀, 블랙 코미디, 소년만화', 'image_link': '//w.namu.la/s/994edd518638d735c861898d1d4d8c9de5fe0ba9f334f1c51bb635cc7285bc4180cbfba502fc22d21241e3d694ebd0ced03b9589cda03c932e6b7a368d8a2fe6fe32ccc9eb763bcd11f673dde5b4ff723b9bb071a6e5a2838de7d013af945597'}\n",
      "{'title': '간츠', 'genre': 'SF, 청년만화', 'image_link': '//w.namu.la/s/ac933ba0f4054d4e394efd102647bc94e3f4e628187c29a8f200c5612ecd4d0211f70f031afe7191055df912402f381f3cf890069e22bd844a0be83eddd1ad665c6029714ebf91e13809484ae71101db62bf4668f5bc4f373f3d724dc7550d60'}\n",
      "{'title': '갈릴레이 돈나', 'genre': 'SF', 'image_link': '//w.namu.la/s/27decad365b573a3e295ba738cc2e8b98adedbdb6e34b800be83a79d9512b97202c9378c10c2d729195b30edb252851103f5dd79a067829e0e20e8a0cfffc75d6cb97eb47a46a4d08ba7fabe7b0c68c807cc79b64f82abd62b1640e253492cce'}\n",
      "{'title': '감바의 모험', 'genre': None, 'image_link': None}\n",
      "{'title': '감옥학원', 'genre': '코미디', 'image_link': '//w.namu.la/s/105627544530f132b1c33dd6a1dcd879e8ce2c5d2934b4d69c8fbed63605bdecddd8ce36cb485baa1354341492f23ab9f245338b3b21e754a5458b65376099f9e434b01072d9413ae00252345b6fe98640d1170f58fdbd0a62370c632c060fde', 'company': 'J.C.STAFF', 'show_time': '2015년 7월 11일 ~ 9월 26일', 'count': '전12화+OVA 1화'}\n",
      "{'title': '갑충왕자 무시킹', 'genre': None, 'image_link': None}\n",
      "{'title': '갑철성의 카바네리', 'genre': None, 'image_link': None}\n",
      "{'title': '강각의 레기오스', 'genre': '학원, 판타지, 액션', 'image_link': '//w.namu.la/s/2dbd46e1d9975f8d86a134f8ddd8785703f1c6c0916f21636cb276a072bb114e6c6074bfc4d33e926d1a793d8cc28eb02f88d4f65db160e126f8d1f0ed28d20136776bb6e5535c9e633c4169db52e2829c968bd8ac3f872cf36a9ded81c6c19c'}\n",
      "{'title': '강식장갑 가이버', 'genre': None, 'image_link': None}\n",
      "{'title': '강철삼국지', 'genre': None, 'image_link': None}\n",
      "{'title': '강철의 라인배럴', 'genre': 'SF, 전쟁, 로봇, 액션', 'image_link': '//w.namu.la/s/1487fbf0619e5d34af79ac7d968280522d415057bba6474dc0224f26d17d5306830416fb416af820dead0ecdbe1594fad8a545903e75484b73c0e9121bd3235e6ceb950690712307adcb582989564423f7b28332426c4cfc3c861e387805604b', 'company': 'GONZO', 'show_time': '2008년 10월 4일 ~ 2009년 3월 21일', 'count': '전24화 + OVA 2화'}\n",
      "{'title': '강철의 연금술사', 'genre': '다크 판타지, 디젤펑크, 소년만화', 'image_link': '//w.namu.la/s/5fe3cabad7c9ded9656de43ae3520b3cfd0b9123e24938b03845373d5ddeabc86e1a47f9a2e7e863bb328e65b4a4b4a787a60bd6af24401ef033edd206b8a10fc4e259cdc7c29c91c41a4547f7ac2c14281fb0e15e2385218e087949c554f942'}\n",
      "{'title': '강철의 연금술사 FULLMETAL ALCHEMIST', 'genre': None, 'image_link': None}\n",
      "{'title': '강철 지그', 'genre': None, 'image_link': None}\n",
      "{'title': '강철신 지그', 'genre': None, 'image_link': None}\n",
      "{'title': '강철천사 쿠루미', 'genre': None, 'image_link': None}\n",
      "{'title': '강Q초아 잇키맨', 'genre': None, 'image_link': None}\n",
      "{'title': '개골개골 마법사', 'genre': None, 'image_link': None}\n",
      "{'title': '개구리 왕눈이', 'genre': None, 'image_link': None}\n",
      "{'title': '개구리 중사 케로로', 'genre': '개그', 'image_link': '//w.namu.la/s/ec3fc33b80d5e49b7686f3c8cbd06ae5ea2a97e013750d81a61de69b4018fae512971f3bbae43dcbba5964a1967f87a9da2f176c22df097da646aa8ab582208a812876b814d702b9d03041f163262950063f1d23ce57b444f998e8a27edaf296'}\n",
      "{'title': '개그만화 보기 좋은 날', 'genre': None, 'image_link': None}\n",
      "{'title': '개와 가위는 쓰기 나름', 'genre': '코미디', 'image_link': '//w.namu.la/s/976ebd3c12ed1af88690f30d2d526460dabce6dd389a6051a5bae3baf780c411c6b6d30ca0ef434b48e12f20b13ab21f8ed59006608cf0a5cf4a8550ab5b21ea70b8f1b0805fdf6a0ba87b411408a23c5cf0629c11fa8eb6c15a3007d3606932', 'company': 'GONZO', 'show_time': '2013년 7월 2일 ~ 9월 17일', 'count': '12화'}\n",
      "{'title': '갤러리 페이크', 'genre': None, 'image_link': None}\n",
      "{'title': '갤럭시 엔젤', 'genre': None, 'image_link': None}\n",
      "None\n",
      "{'title': '나가토 유키짱의 소실', 'genre': ' 연애 / 학원 / 코미디 ', 'image_link': '//w.namu.la/s/64cdd8c8bec8deac894c6664efc899c7d8476b02e8c42f6920e08fd542a345216ba9af6950af75711c7a8fb8246b9a9cd72be77874dec6452eaaebc9de156727eac9aa7534f3eacdf3117f43f4877897072d11284b38124f3cbf8a594e0c461e', 'company': 'SATELIGHT', 'show_time': '2015년 4월 4일 ~ 7월 18일', 'count': '전16화 + OVA 1화'}\n",
      "{'title': '나나(애니메이션)', 'genre': None, 'image_link': None}\n",
      "{'title': '나나마루 산바츠', 'genre': '학원, 퀴즈', 'image_link': '//w.namu.la/s/2f6eecbc96f44aa583afed5fb603802dd3586ff20273007b7d0efbb5cba2eed01bb2bda4c4b5d708b225b73c8ce8e65afcdca6473497180c6efe073c3167cc147cdaa3c25ce3ddd0e9710a7a47f3e1f86748fc50eb33cccea60e5f7c85c58797', 'company': 'TMS 엔터테인먼트', 'show_time': '2017년 7월 5일 ~ 9월 20일', 'count': '12화'}\n",
      "{'title': '나나와 카오루', 'genre': '성인만화', 'image_link': '//w.namu.la/s/5d768b50d4ddb440a4703b4be78ae1a2bb2efc097499dc3a64f24ab534ba936c1b0566424c48ecc670437baab29117fb33983583378c16fee3d332d27ac860e1095fded788453b34ab78cf9846e1f541795bcc2fd2ac07ebf29c02cdbd81d52a'}\n",
      "{'title': '나나카 6/17', 'genre': None, 'image_link': None, 'company': 'J.C.STAFF', 'show_time': '2003년 1월 9일 ~ 3월 27일', 'count': '전12화 + 미방영 1화'}\n",
      "{'title': '나는 친구가 적다', 'genre': '학원, 러브 코미디, 하렘', 'image_link': '//w.namu.la/s/0780485c3ad8291a9c399fe49cacef99c7c84360dca94fea7f6bffd2abca7d302794495f4bce6d4bb3daf7a8aade949d8a95fc08799ae11de55aff06c895c1978985537083b0e802676828569c342afc8b371aac51b8cfe4c0c3b9db74937a14', 'company': 'AIC Build', 'show_time': '2011년 10월 ~ 12월', 'count': '전12화+OVA 2화'}\n",
      "{'title': '나루타루', 'genre': None, 'image_link': None, 'company': '플래닛(プラネット)', 'show_time': '2003년 7월 7일 ~ 9월 29일', 'count': '13화'}\n",
      "{'title': '나루토', 'genre': '닌자, 배틀, 소년만화', 'image_link': '//w.namu.la/s/786cde3bba5bf18923ea75c89e5d781d61a10890b96f2816439c9ef8417968899456265da776790d4f4338fe13142778e7d7ab52b81082cbe2f6635f26a23fd1967c1eaa9f4daa14261515cddc020d28fed3c85141b707b282a7e3ad3cc11abe'}\n",
      "{'title': '나만이 없는 거리', 'genre': '추리, 서스펜스, 루프', 'image_link': '//w.namu.la/s/49150d762f603a2855afa5b2095d49014e41be52f9bb59b0744d2756198c226833aa76d9e0b5841c70d11ea3c492625c4896c75f097f18eeb22bc8d33f2cd1d222ef311f06384adbf8e1faeb5b4c997b36720c6cc19d85442383aee7494c77c6', 'company': 'A-1 Pictures', 'show_time': '2016년 1월 7일 ~ 3월 24일', 'count': '12화'}\n",
      "{'title': '나와라! 코쿠리씨', 'genre': '코미디, 판타지', 'image_link': '//w.namu.la/s/addcbfc6029bd476d256f2c8b4ebdb85fe63cf990b6718c69d77da7b5db34da950ca06b56aa874084f218db67326ef1f83259912075b7ab9aabd8b06f615cf139c5ca6ccf2188e8e533e5aae4937fabe8e7bbf5a1eb3e6d9bbbb4093146b6657', 'company': 'TMS 엔터테인먼트더블 이글', 'show_time': '2014년 10월 6일 ~ 12월 22일', 'count': '12화'}\n",
      "{'title': '나이트 위저드', 'genre': None, 'image_link': None}\n",
      "{'title': '나의 히어로 아카데미아', 'genre': '소년만화, 학원, 능력자 배틀', 'image_link': '//w.namu.la/s/23efa1bc40db6900d7385faeb0367571798772618dada1d6fd750ec104d1cddb22b8318fc73f7dacd023408e9f7879456872ba4fa74169d35d5d16f1168ebefb331010d2a1cd7a55b6f16210ea3991f41e2f12006c0e22b1832947479a1c844c', 'company': ' 본즈 ', 'show_time': ' 2016년 4월 3일 ~ 2016년 6월 26일(1기)2017년 4월 1일[1] ~ 2017년 9월 30일(2기)2018년 4월 7일 ~ 2018년 9월 29일 (3기)2019년 10월 ~ (4기) ', 'count': ' 13화(1기)25화(2기)25화(3기) '}\n"
     ]
    },
    {
     "name": "stdout",
     "output_type": "stream",
     "text": [
      "{'title': '나지카 전격작전', 'genre': None, 'image_link': None}\n",
      "{'title': '나츠메 우인장', 'genre': '판타지, 일상, 치유', 'image_link': '//w.namu.la/s/2de90c448da99e200d3d4c539eb01ff309a79c4c5c94c8f866d2cc3033a75106ea60f44fb743af411cc9a7b7f94b392fee3ff360bae287794c727e82847373a21fa20ed5cea7dee60677697931d7b588730b16010df66323b344570e2d6ce0b4', 'company': None, 'show_time': '2008년 7월 ~ 2017년 6월', 'count': '각 13화(1~4기)각 11화(5~6기)'}\n",
      "{'title': '낙원추방', 'genre': None, 'image_link': None}\n",
      "{'title': '낙제 기사의 영웅담', 'genre': '학원, 판타지, 액션, 러브 코미디', 'image_link': '//w.namu.la/s/db3364177069c9e7577dfff5d90510111f8abbb9d8cbc480df1e4b48bb18104fbeb304109fa1154d317b701c40026c01e9fe430af2ca5d8dbd75d4406277f398de9cf53f12800b0589fa871216d0b241c69ee6b217eda3cc1fe76e5cd92978f5', 'company': 'SILVER LINK. / Nexus', 'show_time': '2015년 10월 3일 ~ 12월 19일', 'count': '12화'}\n"
     ]
    },
    {
     "ename": "KeyboardInterrupt",
     "evalue": "",
     "output_type": "error",
     "traceback": [
      "\u001b[0;31m---------------------------------------------------------------------------\u001b[0m",
      "\u001b[0;31mKeyboardInterrupt\u001b[0m                         Traceback (most recent call last)",
      "\u001b[0;32m<ipython-input-42-a168b08c9a3c>\u001b[0m in \u001b[0;36m<module>\u001b[0;34m\u001b[0m\n\u001b[0;32m----> 1\u001b[0;31m \u001b[0mget_animes\u001b[0m\u001b[0;34m(\u001b[0m\u001b[0;34m)\u001b[0m\u001b[0;34m\u001b[0m\u001b[0m\n\u001b[0m",
      "\u001b[0;32m<ipython-input-41-3c2214f7b105>\u001b[0m in \u001b[0;36mget_animes\u001b[0;34m()\u001b[0m\n\u001b[1;32m     71\u001b[0m     \u001b[0manime_consonant_links\u001b[0m \u001b[0;34m=\u001b[0m \u001b[0msoup\u001b[0m\u001b[0;34m.\u001b[0m\u001b[0mselect\u001b[0m\u001b[0;34m(\u001b[0m\u001b[0;34m'.wiki-heading-content > .wiki-paragraph > .wiki-link-internal'\u001b[0m\u001b[0;34m)\u001b[0m\u001b[0;34m[\u001b[0m\u001b[0;36m1\u001b[0m\u001b[0;34m:\u001b[0m\u001b[0;34m:\u001b[0m\u001b[0;36m2\u001b[0m\u001b[0;34m]\u001b[0m\u001b[0;34m\u001b[0m\u001b[0m\n\u001b[1;32m     72\u001b[0m \u001b[0;34m\u001b[0m\u001b[0m\n\u001b[0;32m---> 73\u001b[0;31m     \u001b[0mget_animes_by_consonant\u001b[0m\u001b[0;34m(\u001b[0m\u001b[0manime_consonant_links\u001b[0m\u001b[0;34m)\u001b[0m\u001b[0;34m\u001b[0m\u001b[0m\n\u001b[0m",
      "\u001b[0;32m<ipython-input-41-3c2214f7b105>\u001b[0m in \u001b[0;36mget_animes_by_consonant\u001b[0;34m(anime_consonant_links)\u001b[0m\n\u001b[1;32m     65\u001b[0m         \u001b[0msoup\u001b[0m \u001b[0;34m=\u001b[0m \u001b[0mget_soup\u001b[0m\u001b[0;34m(\u001b[0m\u001b[0mbase_url\u001b[0m \u001b[0;34m+\u001b[0m \u001b[0manime_consonant_link\u001b[0m\u001b[0;34m.\u001b[0m\u001b[0mget\u001b[0m\u001b[0;34m(\u001b[0m\u001b[0;34m'href'\u001b[0m\u001b[0;34m)\u001b[0m\u001b[0;34m)\u001b[0m\u001b[0;34m\u001b[0m\u001b[0m\n\u001b[1;32m     66\u001b[0m         \u001b[0manime_content_links\u001b[0m \u001b[0;34m=\u001b[0m \u001b[0msoup\u001b[0m\u001b[0;34m.\u001b[0m\u001b[0mselect\u001b[0m\u001b[0;34m(\u001b[0m\u001b[0;34m'.wiki-inner-content > .wiki-heading-content'\u001b[0m\u001b[0;34m)\u001b[0m\u001b[0;34m\u001b[0m\u001b[0m\n\u001b[0;32m---> 67\u001b[0;31m         \u001b[0mget_animes_by_content\u001b[0m\u001b[0;34m(\u001b[0m\u001b[0manime_content_links\u001b[0m\u001b[0;34m)\u001b[0m\u001b[0;34m\u001b[0m\u001b[0m\n\u001b[0m\u001b[1;32m     68\u001b[0m \u001b[0;34m\u001b[0m\u001b[0m\n\u001b[1;32m     69\u001b[0m \u001b[0;32mdef\u001b[0m \u001b[0mget_animes\u001b[0m\u001b[0;34m(\u001b[0m\u001b[0;34m)\u001b[0m\u001b[0;34m:\u001b[0m\u001b[0;34m\u001b[0m\u001b[0m\n",
      "\u001b[0;32m<ipython-input-41-3c2214f7b105>\u001b[0m in \u001b[0;36mget_animes_by_content\u001b[0;34m(anime_content_links)\u001b[0m\n\u001b[1;32m     57\u001b[0m     \u001b[0;32mfor\u001b[0m \u001b[0manime_content_link\u001b[0m \u001b[0;32min\u001b[0m \u001b[0manime_content_links\u001b[0m\u001b[0;34m:\u001b[0m\u001b[0;34m\u001b[0m\u001b[0m\n\u001b[1;32m     58\u001b[0m         \u001b[0manime_list_links\u001b[0m \u001b[0;34m=\u001b[0m \u001b[0manime_content_link\u001b[0m\u001b[0;34m.\u001b[0m\u001b[0mselect\u001b[0m\u001b[0;34m(\u001b[0m\u001b[0;34m'ul > li > .wiki-paragraph > .wiki-link-internal'\u001b[0m\u001b[0;34m)\u001b[0m\u001b[0;34m\u001b[0m\u001b[0m\n\u001b[0;32m---> 59\u001b[0;31m         \u001b[0mdatas\u001b[0m \u001b[0;34m=\u001b[0m \u001b[0mget_anime\u001b[0m\u001b[0;34m(\u001b[0m\u001b[0manime_list_links\u001b[0m\u001b[0;34m)\u001b[0m\u001b[0;34m\u001b[0m\u001b[0m\n\u001b[0m\u001b[1;32m     60\u001b[0m         \u001b[0mprint\u001b[0m\u001b[0;34m(\u001b[0m\u001b[0mdatas\u001b[0m\u001b[0;34m)\u001b[0m\u001b[0;34m\u001b[0m\u001b[0m\n\u001b[1;32m     61\u001b[0m         \u001b[0;32mbreak\u001b[0m\u001b[0;34m\u001b[0m\u001b[0m\n",
      "\u001b[0;32m<ipython-input-41-3c2214f7b105>\u001b[0m in \u001b[0;36mget_anime\u001b[0;34m(anime_list_links)\u001b[0m\n\u001b[1;32m     44\u001b[0m \u001b[0;34m\u001b[0m\u001b[0m\n\u001b[1;32m     45\u001b[0m         \u001b[0manimation_detail_data\u001b[0m \u001b[0;34m=\u001b[0m \u001b[0mget_animation_detail_data\u001b[0m\u001b[0;34m(\u001b[0m\u001b[0msoup\u001b[0m\u001b[0;34m)\u001b[0m\u001b[0;34m\u001b[0m\u001b[0m\n\u001b[0;32m---> 46\u001b[0;31m         \u001b[0mtime\u001b[0m\u001b[0;34m.\u001b[0m\u001b[0msleep\u001b[0m\u001b[0;34m(\u001b[0m\u001b[0;36m3\u001b[0m\u001b[0;34m)\u001b[0m\u001b[0;34m\u001b[0m\u001b[0m\n\u001b[0m\u001b[1;32m     47\u001b[0m \u001b[0;34m\u001b[0m\u001b[0m\n\u001b[1;32m     48\u001b[0m         data = {\n",
      "\u001b[0;31mKeyboardInterrupt\u001b[0m: "
     ]
    }
   ],
   "source": [
    "get_animes()"
   ]
  },
  {
   "cell_type": "code",
   "execution_count": 16,
   "metadata": {},
   "outputs": [],
   "source": [
    "url ='https://namu.wiki/w/%EB%82%98%EB%A3%A8%ED%83%80%EB%A3%A8#s-4.1'\n",
    "soup = get_soup(url)"
   ]
  },
  {
   "cell_type": "code",
   "execution_count": 39,
   "metadata": {},
   "outputs": [],
   "source": [
    "# get anime Data\n",
    "# print(soup)\n",
    "\n",
    "def get_table_with_show_time(soup):\n",
    "    try:\n",
    "        table = soup.find(string=\"방영 시기\").find_parent('table', class_='wiki-table')\n",
    "        return table\n",
    "    except AttributeError:\n",
    "        return dict()\n",
    "\n",
    "def get_data_from_anime_table(soup):\n",
    "    table = get_table_with_show_time(soup)\n",
    "    if table:\n",
    "        company = get_data_if_exists(table, '애니메이션 제작')\n",
    "        show_time = get_data_if_exists(table, '방영 시기')\n",
    "        count = get_data_if_exists(table, '화수')\n",
    "        return {\n",
    "            'company': company,\n",
    "            'show_time': show_time,\n",
    "            'count': count,\n",
    "        }\n",
    "    return dict()\n",
    "\n",
    "def get_animation_detail_data(soup):\n",
    "    try:\n",
    "        toc = soup.select_one('.wiki-macro-toc').find(string=re.compile(r'애니메이션'))\n",
    "    except AttributeError:\n",
    "        return dict()\n",
    "    \n",
    "    # 애니메이션 태그가 없는 경우 종료\n",
    "    if not toc:\n",
    "        return dict()\n",
    "    \n",
    "    # 애니메이션 태그가 존재\n",
    "    toc = toc.parent\n",
    "    \n",
    "    if 'toc-item' in toc.get('class'):\n",
    "        # 부모가 toc-item인경우 해당 페이지 내 애니메이션 테이블이 존재\n",
    "        toc_id = toc.find('a').get('href')[1:]\n",
    "        try:\n",
    "            content_soup = soup.find('a', {'id': toc_id}).parent.find_next('div', class_='wiki-heading-content')\n",
    "        except AttributeError:\n",
    "            return dict()\n",
    "    else:\n",
    "        # 부모가 a 태그인 경우 링크로 이동됨\n",
    "        content_soup = get_soup(base_url + toc.get('href'))\n",
    "        \n",
    "    data = get_data_from_anime_table(content_soup)\n",
    "    return data\n"
   ]
  },
  {
   "cell_type": "code",
   "execution_count": null,
   "metadata": {},
   "outputs": [],
   "source": []
  }
 ],
 "metadata": {
  "kernelspec": {
   "display_name": "Python 3",
   "language": "python",
   "name": "python3"
  },
  "language_info": {
   "codemirror_mode": {
    "name": "ipython",
    "version": 3
   },
   "file_extension": ".py",
   "mimetype": "text/x-python",
   "name": "python",
   "nbconvert_exporter": "python",
   "pygments_lexer": "ipython3",
   "version": "3.6.6"
  }
 },
 "nbformat": 4,
 "nbformat_minor": 2
}
