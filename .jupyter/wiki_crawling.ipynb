{
 "cells": [
  {
   "cell_type": "code",
   "execution_count": 47,
   "metadata": {},
   "outputs": [],
   "source": [
    "from bs4 import BeautifulSoup\n",
    "import requests\n",
    "import re\n",
    "import time"
   ]
  },
  {
   "cell_type": "code",
   "execution_count": 48,
   "metadata": {},
   "outputs": [],
   "source": [
    "base_url = 'https://namu.wiki'"
   ]
  },
  {
   "cell_type": "code",
   "execution_count": 49,
   "metadata": {},
   "outputs": [],
   "source": [
    "list_url = '/w/%EC%9D%BC%EB%B3%B8%20%EC%95%A0%EB%8B%88%EB%A9%94%EC%9D%B4%EC%85%98/%EB%AA%A9%EB%A1%9D'"
   ]
  },
  {
   "cell_type": "code",
   "execution_count": 54,
   "metadata": {},
   "outputs": [],
   "source": [
    "def get_soup(url):\n",
    "    html = requests.get(url).content\n",
    "    soup = BeautifulSoup(html, 'html.parser')\n",
    "    return soup\n",
    "\n",
    "def get_table(soup):\n",
    "    try:\n",
    "        table = soup.find(string=\"장르\").find_parent('table', class_='wiki-table')\n",
    "        return table\n",
    "    except AttributeError:\n",
    "        return None\n",
    "\n",
    "def get_image(soup):\n",
    "    table = get_table(soup)\n",
    "    if table:\n",
    "        img = table.select_one('.wiki-image').get('data-src')\n",
    "        return img\n",
    "    else:\n",
    "        try:\n",
    "            img = soup.select_one('.wiki-inner-content .wiki-image').get('href')\n",
    "            return img\n",
    "        except AttributeError:\n",
    "            return None\n",
    "\n",
    "def get_genre(soup):\n",
    "    table = get_table(soup)\n",
    "    if table:\n",
    "        genre = table.find(string=\"장르\").find_parent('tr').find_all('td')[1].get_text()\n",
    "        return genre\n",
    "    \n",
    "def get_anime(anime_list_links):\n",
    "    for anime_link in anime_list_links:\n",
    "        title = anime_link.get('title')\n",
    "        soup = get_soup(base_url + anime_link.get('href'))\n",
    "        \n",
    "        genre = get_genre(soup)\n",
    "        image_link = get_image(soup)\n",
    "        time.sleep(1)\n",
    "        \n",
    "        data = {\n",
    "            'title': title,\n",
    "            'genre': genre,\n",
    "            'image_link': image_link\n",
    "        }\n",
    "        print(data)\n",
    "        \n",
    "def get_animes_by_content(anime_content_links):\n",
    "    for anime_content_link in anime_content_links:\n",
    "        anime_list_links = anime_content_link.select('ul > li > .wiki-paragraph > .wiki-link-internal')\n",
    "        datas = get_anime(anime_list_links)\n",
    "        print(datas)\n",
    "        break\n",
    "\n",
    "def get_animes_by_consonant(anime_consonant_links):\n",
    "    for anime_consonant_link in anime_consonant_links:\n",
    "        soup = get_soup(base_url + anime_consonant_link.get('href'))\n",
    "        anime_content_links = soup.select('.wiki-inner-content > .wiki-heading-content')\n",
    "        get_animes_by_content(anime_content_links)\n",
    "\n",
    "def get_animes():\n",
    "    soup = get_soup(base_url + list_url)\n",
    "    anime_consonant_links = soup.select('.wiki-heading-content > .wiki-paragraph > .wiki-link-internal')[1::2]\n",
    "    \n",
    "    get_animes_by_consonant(anime_consonant_links)"
   ]
  },
  {
   "cell_type": "code",
   "execution_count": 55,
   "metadata": {
    "scrolled": false
   },
   "outputs": [
    {
     "name": "stdout",
     "output_type": "stream",
     "text": [
      "{'title': '가난뱅이 신이!', 'genre': '개그', 'image_link': '//w.namu.la/s/8911f358b21b7a3fdefa677adb9a221b7005bcdb9d597464302f8c5d53458ad0eeb9f278f3efb18f1280b7f74ed3da9fb6a2ba73274980846d4c6d10a617fc11ce4916bb0cb84c4ce6e512b2f7d79ba47bcf873388d763e52509f565a8bc3350'}\n",
      "{'title': '가르쳐줘! 갸루코쨩', 'genre': '학원, 코미디, 일상', 'image_link': '//w.namu.la/s/ce4dc0687d9a2160dedaa0a8d4eef698806c706cc4a8c07144456936715a46047a0221fd7877a25694e1f3ff4a380190c4d60cc039404ac48b3a3c5ac4744e5214114c4a29468928afed0dae2f81eadcca0a7ccc259ca7df36e79904aacfc333'}\n",
      "{'title': '가면의 메이드가이', 'genre': None, 'image_link': None}\n",
      "{'title': '가부키부!', 'genre': '가부키, 학원물', 'image_link': '//w.namu.la/s/9605dc3106a19cc594f2123f94938c30afba87e39f74ecb07c0735c5ab776ec73fdc35fd3e700c0186bf69dfdaf3d90478c6ce6a7860beefe31e108b1a95ecd49d3832e75a3e14b57a424070078cea5a56cf4b584a9ce68ab3c23e27c8e2cacc'}\n",
      "{'title': '가브릴 드롭아웃', 'genre': '판타지, 일상, 코미디', 'image_link': '//w.namu.la/s/c9df8fc9b76441081faa72d2088eb1e644d63f83deee1386138d89eb30fd914a00e745b0bb3f0edf073e4adc1dc0547bb0548ecd5bda50e16732b4aa1487ce5294e11304d8fa2870d5fce4a4ac8060130a983fdef545b76044219f8b5af8b4f0'}\n",
      "{'title': '가사라키', 'genre': None, 'image_link': None}\n",
      "{'title': '가시나무왕', 'genre': None, 'image_link': None}\n",
      "{'title': '가이킹 LEGEND OF DAIKU-MARYU', 'genre': None, 'image_link': None}\n",
      "{'title': '가정교사 히트맨 REBORN!', 'genre': '배틀, 블랙 코미디, 소년만화', 'image_link': '//w.namu.la/s/994edd518638d735c861898d1d4d8c9de5fe0ba9f334f1c51bb635cc7285bc4180cbfba502fc22d21241e3d694ebd0ced03b9589cda03c932e6b7a368d8a2fe6fe32ccc9eb763bcd11f673dde5b4ff723b9bb071a6e5a2838de7d013af945597'}\n",
      "{'title': '간츠', 'genre': 'SF, 청년만화', 'image_link': '//w.namu.la/s/ac933ba0f4054d4e394efd102647bc94e3f4e628187c29a8f200c5612ecd4d0211f70f031afe7191055df912402f381f3cf890069e22bd844a0be83eddd1ad665c6029714ebf91e13809484ae71101db62bf4668f5bc4f373f3d724dc7550d60'}\n",
      "{'title': '갈릴레이 돈나', 'genre': 'SF', 'image_link': '//w.namu.la/s/27decad365b573a3e295ba738cc2e8b98adedbdb6e34b800be83a79d9512b97202c9378c10c2d729195b30edb252851103f5dd79a067829e0e20e8a0cfffc75d6cb97eb47a46a4d08ba7fabe7b0c68c807cc79b64f82abd62b1640e253492cce'}\n",
      "{'title': '감바의 모험', 'genre': None, 'image_link': None}\n",
      "{'title': '감옥학원', 'genre': '코미디', 'image_link': '//w.namu.la/s/105627544530f132b1c33dd6a1dcd879e8ce2c5d2934b4d69c8fbed63605bdecddd8ce36cb485baa1354341492f23ab9f245338b3b21e754a5458b65376099f9e434b01072d9413ae00252345b6fe98640d1170f58fdbd0a62370c632c060fde'}\n",
      "{'title': '갑충왕자 무시킹', 'genre': None, 'image_link': None}\n",
      "{'title': '갑철성의 카바네리', 'genre': None, 'image_link': None}\n",
      "{'title': '강각의 레기오스', 'genre': '학원, 판타지, 액션', 'image_link': '//w.namu.la/s/2dbd46e1d9975f8d86a134f8ddd8785703f1c6c0916f21636cb276a072bb114e6c6074bfc4d33e926d1a793d8cc28eb02f88d4f65db160e126f8d1f0ed28d20136776bb6e5535c9e633c4169db52e2829c968bd8ac3f872cf36a9ded81c6c19c'}\n",
      "{'title': '강식장갑 가이버', 'genre': None, 'image_link': None}\n",
      "{'title': '강철삼국지', 'genre': None, 'image_link': None}\n",
      "{'title': '강철의 라인배럴', 'genre': 'SF, 전쟁, 로봇, 액션', 'image_link': '//w.namu.la/s/1487fbf0619e5d34af79ac7d968280522d415057bba6474dc0224f26d17d5306830416fb416af820dead0ecdbe1594fad8a545903e75484b73c0e9121bd3235e6ceb950690712307adcb582989564423f7b28332426c4cfc3c861e387805604b'}\n",
      "{'title': '강철의 연금술사', 'genre': '다크 판타지, 디젤펑크, 소년만화', 'image_link': '//w.namu.la/s/5fe3cabad7c9ded9656de43ae3520b3cfd0b9123e24938b03845373d5ddeabc86e1a47f9a2e7e863bb328e65b4a4b4a787a60bd6af24401ef033edd206b8a10fc4e259cdc7c29c91c41a4547f7ac2c14281fb0e15e2385218e087949c554f942'}\n",
      "{'title': '강철의 연금술사 FULLMETAL ALCHEMIST', 'genre': None, 'image_link': None}\n",
      "{'title': '강철 지그', 'genre': None, 'image_link': None}\n"
     ]
    },
    {
     "ename": "KeyboardInterrupt",
     "evalue": "",
     "output_type": "error",
     "traceback": [
      "\u001b[0;31m---------------------------------------------------------------------------\u001b[0m",
      "\u001b[0;31mKeyboardInterrupt\u001b[0m                         Traceback (most recent call last)",
      "\u001b[0;32m<ipython-input-55-a168b08c9a3c>\u001b[0m in \u001b[0;36m<module>\u001b[0;34m\u001b[0m\n\u001b[0;32m----> 1\u001b[0;31m \u001b[0mget_animes\u001b[0m\u001b[0;34m(\u001b[0m\u001b[0;34m)\u001b[0m\u001b[0;34m\u001b[0m\u001b[0m\n\u001b[0m",
      "\u001b[0;32m<ipython-input-54-45982b8ff107>\u001b[0m in \u001b[0;36mget_animes\u001b[0;34m()\u001b[0m\n\u001b[1;32m     62\u001b[0m     \u001b[0manime_consonant_links\u001b[0m \u001b[0;34m=\u001b[0m \u001b[0msoup\u001b[0m\u001b[0;34m.\u001b[0m\u001b[0mselect\u001b[0m\u001b[0;34m(\u001b[0m\u001b[0;34m'.wiki-heading-content > .wiki-paragraph > .wiki-link-internal'\u001b[0m\u001b[0;34m)\u001b[0m\u001b[0;34m[\u001b[0m\u001b[0;36m1\u001b[0m\u001b[0;34m:\u001b[0m\u001b[0;34m:\u001b[0m\u001b[0;36m2\u001b[0m\u001b[0;34m]\u001b[0m\u001b[0;34m\u001b[0m\u001b[0m\n\u001b[1;32m     63\u001b[0m \u001b[0;34m\u001b[0m\u001b[0m\n\u001b[0;32m---> 64\u001b[0;31m     \u001b[0mget_animes_by_consonant\u001b[0m\u001b[0;34m(\u001b[0m\u001b[0manime_consonant_links\u001b[0m\u001b[0;34m)\u001b[0m\u001b[0;34m\u001b[0m\u001b[0m\n\u001b[0m",
      "\u001b[0;32m<ipython-input-54-45982b8ff107>\u001b[0m in \u001b[0;36mget_animes_by_consonant\u001b[0;34m(anime_consonant_links)\u001b[0m\n\u001b[1;32m     56\u001b[0m         \u001b[0msoup\u001b[0m \u001b[0;34m=\u001b[0m \u001b[0mget_soup\u001b[0m\u001b[0;34m(\u001b[0m\u001b[0mbase_url\u001b[0m \u001b[0;34m+\u001b[0m \u001b[0manime_consonant_link\u001b[0m\u001b[0;34m.\u001b[0m\u001b[0mget\u001b[0m\u001b[0;34m(\u001b[0m\u001b[0;34m'href'\u001b[0m\u001b[0;34m)\u001b[0m\u001b[0;34m)\u001b[0m\u001b[0;34m\u001b[0m\u001b[0m\n\u001b[1;32m     57\u001b[0m         \u001b[0manime_content_links\u001b[0m \u001b[0;34m=\u001b[0m \u001b[0msoup\u001b[0m\u001b[0;34m.\u001b[0m\u001b[0mselect\u001b[0m\u001b[0;34m(\u001b[0m\u001b[0;34m'.wiki-inner-content > .wiki-heading-content'\u001b[0m\u001b[0;34m)\u001b[0m\u001b[0;34m\u001b[0m\u001b[0m\n\u001b[0;32m---> 58\u001b[0;31m         \u001b[0mget_animes_by_content\u001b[0m\u001b[0;34m(\u001b[0m\u001b[0manime_content_links\u001b[0m\u001b[0;34m)\u001b[0m\u001b[0;34m\u001b[0m\u001b[0m\n\u001b[0m\u001b[1;32m     59\u001b[0m \u001b[0;34m\u001b[0m\u001b[0m\n\u001b[1;32m     60\u001b[0m \u001b[0;32mdef\u001b[0m \u001b[0mget_animes\u001b[0m\u001b[0;34m(\u001b[0m\u001b[0;34m)\u001b[0m\u001b[0;34m:\u001b[0m\u001b[0;34m\u001b[0m\u001b[0m\n",
      "\u001b[0;32m<ipython-input-54-45982b8ff107>\u001b[0m in \u001b[0;36mget_animes_by_content\u001b[0;34m(anime_content_links)\u001b[0m\n\u001b[1;32m     48\u001b[0m     \u001b[0;32mfor\u001b[0m \u001b[0manime_content_link\u001b[0m \u001b[0;32min\u001b[0m \u001b[0manime_content_links\u001b[0m\u001b[0;34m:\u001b[0m\u001b[0;34m\u001b[0m\u001b[0m\n\u001b[1;32m     49\u001b[0m         \u001b[0manime_list_links\u001b[0m \u001b[0;34m=\u001b[0m \u001b[0manime_content_link\u001b[0m\u001b[0;34m.\u001b[0m\u001b[0mselect\u001b[0m\u001b[0;34m(\u001b[0m\u001b[0;34m'ul > li > .wiki-paragraph > .wiki-link-internal'\u001b[0m\u001b[0;34m)\u001b[0m\u001b[0;34m\u001b[0m\u001b[0m\n\u001b[0;32m---> 50\u001b[0;31m         \u001b[0mdatas\u001b[0m \u001b[0;34m=\u001b[0m \u001b[0mget_anime\u001b[0m\u001b[0;34m(\u001b[0m\u001b[0manime_list_links\u001b[0m\u001b[0;34m)\u001b[0m\u001b[0;34m\u001b[0m\u001b[0m\n\u001b[0m\u001b[1;32m     51\u001b[0m         \u001b[0mprint\u001b[0m\u001b[0;34m(\u001b[0m\u001b[0mdatas\u001b[0m\u001b[0;34m)\u001b[0m\u001b[0;34m\u001b[0m\u001b[0m\n\u001b[1;32m     52\u001b[0m         \u001b[0;32mbreak\u001b[0m\u001b[0;34m\u001b[0m\u001b[0m\n",
      "\u001b[0;32m<ipython-input-54-45982b8ff107>\u001b[0m in \u001b[0;36mget_anime\u001b[0;34m(anime_list_links)\u001b[0m\n\u001b[1;32m     36\u001b[0m         \u001b[0mgenre\u001b[0m \u001b[0;34m=\u001b[0m \u001b[0mget_genre\u001b[0m\u001b[0;34m(\u001b[0m\u001b[0msoup\u001b[0m\u001b[0;34m)\u001b[0m\u001b[0;34m\u001b[0m\u001b[0m\n\u001b[1;32m     37\u001b[0m         \u001b[0mimage_link\u001b[0m \u001b[0;34m=\u001b[0m \u001b[0mget_image\u001b[0m\u001b[0;34m(\u001b[0m\u001b[0msoup\u001b[0m\u001b[0;34m)\u001b[0m\u001b[0;34m\u001b[0m\u001b[0m\n\u001b[0;32m---> 38\u001b[0;31m         \u001b[0mtime\u001b[0m\u001b[0;34m.\u001b[0m\u001b[0msleep\u001b[0m\u001b[0;34m(\u001b[0m\u001b[0;36m1\u001b[0m\u001b[0;34m)\u001b[0m\u001b[0;34m\u001b[0m\u001b[0m\n\u001b[0m\u001b[1;32m     39\u001b[0m \u001b[0;34m\u001b[0m\u001b[0m\n\u001b[1;32m     40\u001b[0m         data = {\n",
      "\u001b[0;31mKeyboardInterrupt\u001b[0m: "
     ]
    }
   ],
   "source": [
    "get_animes()"
   ]
  },
  {
   "cell_type": "code",
   "execution_count": null,
   "metadata": {},
   "outputs": [],
   "source": []
  }
 ],
 "metadata": {
  "kernelspec": {
   "display_name": "Python 3",
   "language": "python",
   "name": "python3"
  },
  "language_info": {
   "codemirror_mode": {
    "name": "ipython",
    "version": 3
   },
   "file_extension": ".py",
   "mimetype": "text/x-python",
   "name": "python",
   "nbconvert_exporter": "python",
   "pygments_lexer": "ipython3",
   "version": "3.6.6"
  }
 },
 "nbformat": 4,
 "nbformat_minor": 2
}
